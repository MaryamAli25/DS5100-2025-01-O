{
 "cells": [
  {
   "cell_type": "markdown",
   "id": "ff8b0093-26b3-426c-bc9d-9dfefe47ac32",
   "metadata": {},
   "source": [
    "**Ex 2.4**"
   ]
  },
  {
   "cell_type": "code",
   "execution_count": 2,
   "id": "e5651b74-c698-4ce5-ae41-ac37c34395fc",
   "metadata": {
    "tags": []
   },
   "outputs": [
    {
     "ename": "NameError",
     "evalue": "name 'val' is not defined",
     "output_type": "error",
     "traceback": [
      "\u001b[0;31m---------------------------------------------------------------------------\u001b[0m",
      "\u001b[0;31mNameError\u001b[0m                                 Traceback (most recent call last)",
      "Cell \u001b[0;32mIn[2], line 3\u001b[0m\n\u001b[1;32m      1\u001b[0m levels\u001b[38;5;241m=\u001b[39m{\u001b[38;5;124m'\u001b[39m\u001b[38;5;124mwarm\u001b[39m\u001b[38;5;124m'\u001b[39m,\u001b[38;5;124m'\u001b[39m\u001b[38;5;124merror\u001b[39m\u001b[38;5;124m'\u001b[39m,\u001b[38;5;124m'\u001b[39m\u001b[38;5;124mcritical\u001b[39m\u001b[38;5;124m'\u001b[39m}\n\u001b[1;32m      2\u001b[0m levels\n\u001b[0;32m----> 3\u001b[0m \u001b[43mval\u001b[49m \u001b[38;5;129;01min\u001b[39;00m level\n",
      "\u001b[0;31mNameError\u001b[0m: name 'val' is not defined"
     ]
    }
   ],
   "source": [
    "levels={'warm','error','critical'}\n",
    "levels\n",
    "val in level"
   ]
  },
  {
   "cell_type": "code",
   "execution_count": null,
   "id": "c375bfe7-199c-4ed1-a7ba-8fbdef05a746",
   "metadata": {},
   "outputs": [],
   "source": []
  }
 ],
 "metadata": {
  "kernelspec": {
   "display_name": "Python 3 (ipykernel)",
   "language": "python",
   "name": "python3"
  },
  "language_info": {
   "codemirror_mode": {
    "name": "ipython",
    "version": 3
   },
   "file_extension": ".py",
   "mimetype": "text/x-python",
   "name": "python",
   "nbconvert_exporter": "python",
   "pygments_lexer": "ipython3",
   "version": "3.11.4"
  }
 },
 "nbformat": 4,
 "nbformat_minor": 5
}
