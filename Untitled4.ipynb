{
 "cells": [
  {
   "cell_type": "code",
   "execution_count": 10,
   "id": "d7bbfe94-866c-4956-88ec-5fdd710266ae",
   "metadata": {
    "tags": []
   },
   "outputs": [],
   "source": [
    "my_string= (\"The quick brown fox jumped over the lazy dog.\")\n",
    "my_string1=my_string.replace('.', '')\n",
    "my_string2=my_string.\n",
    "my_string=sorted(my_string1)\n"
   ]
  },
  {
   "cell_type": "code",
   "execution_count": null,
   "id": "3d66b9b4-a4b0-48e6-9655-b86b066542ef",
   "metadata": {},
   "outputs": [],
   "source": []
  }
 ],
 "metadata": {
  "kernelspec": {
   "display_name": "Python 3 (ipykernel)",
   "language": "python",
   "name": "python3"
  },
  "language_info": {
   "codemirror_mode": {
    "name": "ipython",
    "version": 3
   },
   "file_extension": ".py",
   "mimetype": "text/x-python",
   "name": "python",
   "nbconvert_exporter": "python",
   "pygments_lexer": "ipython3",
   "version": "3.11.4"
  }
 },
 "nbformat": 4,
 "nbformat_minor": 5
}
