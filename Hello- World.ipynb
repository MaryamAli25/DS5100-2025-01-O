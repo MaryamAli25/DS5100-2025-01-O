{
 "cells": [
  {
   "cell_type": "markdown",
   "id": "b18755ff-24ad-4246-a8e6-1046ec345b20",
   "metadata": {},
   "source": [
    "**Hello World**"
   ]
  },
  {
   "cell_type": "code",
   "execution_count": 3,
   "id": "0ccfb541-e1ea-46df-8229-6cf9853615bf",
   "metadata": {
    "tags": []
   },
   "outputs": [
    {
     "name": "stdout",
     "output_type": "stream",
     "text": [
      "Hello, World!\n"
     ]
    }
   ],
   "source": [
    "print(\"Hello, World!\")"
   ]
  },
  {
   "cell_type": "code",
   "execution_count": null,
   "id": "52f10fbd-b862-46b8-bbf7-61d838c6d32c",
   "metadata": {},
   "outputs": [],
   "source": []
  }
 ],
 "metadata": {
  "kernelspec": {
   "display_name": "Python 3 (ipykernel)",
   "language": "python",
   "name": "python3"
  },
  "language_info": {
   "codemirror_mode": {
    "name": "ipython",
    "version": 3
   },
   "file_extension": ".py",
   "mimetype": "text/x-python",
   "name": "python",
   "nbconvert_exporter": "python",
   "pygments_lexer": "ipython3",
   "version": "3.11.4"
  }
 },
 "nbformat": 4,
 "nbformat_minor": 5
}
