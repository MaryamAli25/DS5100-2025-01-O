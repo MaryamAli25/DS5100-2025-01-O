{
 "cells": [
  {
   "cell_type": "markdown",
   "id": "4c352e7c-700d-42ab-9a85-0bf86b0eff94",
   "metadata": {
    "tags": []
   },
   "source": [
    "**Exercise 2.1**"
   ]
  },
  {
   "cell_type": "code",
   "execution_count": 6,
   "id": "4e272cf6-a71e-4a0d-a7e4-7f59e83f1511",
   "metadata": {
    "tags": []
   },
   "outputs": [
    {
     "name": "stdout",
     "output_type": "stream",
     "text": [
      "Pyt\n",
      "hon\n"
     ]
    }
   ],
   "source": [
    "my_String ='Python'\n",
    "print(my_String[ :3])  \n",
    "print(my_String[-3:])"
   ]
  },
  {
   "cell_type": "code",
   "execution_count": null,
   "id": "f7205482-28fb-4e9d-9e4f-8fa5dff16eb7",
   "metadata": {},
   "outputs": [],
   "source": []
  }
 ],
 "metadata": {
  "kernelspec": {
   "display_name": "Python 3 (ipykernel)",
   "language": "python",
   "name": "python3"
  },
  "language_info": {
   "codemirror_mode": {
    "name": "ipython",
    "version": 3
   },
   "file_extension": ".py",
   "mimetype": "text/x-python",
   "name": "python",
   "nbconvert_exporter": "python",
   "pygments_lexer": "ipython3",
   "version": "3.11.4"
  }
 },
 "nbformat": 4,
 "nbformat_minor": 5
}
